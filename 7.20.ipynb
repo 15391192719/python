{
 "cells": [
  {
   "cell_type": "markdown",
   "metadata": {},
   "source": [
    "# 函数\n",
    "\n",
    "- 函数可以用来定义可重复代码，组织和简化\n",
    "- 一般来说一个函数在实际开发中为一个小功能\n",
    "- 一个类为一个大功能\n",
    "- 同样函数的长度不要超过一屏"
   ]
  },
  {
   "cell_type": "code",
   "execution_count": 6,
   "metadata": {},
   "outputs": [],
   "source": [
    "def JJ():\n",
    "    print('hello')\n",
    "    return 100"
   ]
  },
  {
   "cell_type": "code",
   "execution_count": 7,
   "metadata": {},
   "outputs": [
    {
     "name": "stdout",
     "output_type": "stream",
     "text": [
      "hello\n",
      "100\n"
     ]
    }
   ],
   "source": [
    "a=JJ()\n",
    "print(a)"
   ]
  },
  {
   "cell_type": "code",
   "execution_count": 8,
   "metadata": {},
   "outputs": [
    {
     "name": "stdout",
     "output_type": "stream",
     "text": [
      "hello\n"
     ]
    },
    {
     "data": {
      "text/plain": [
       "100"
      ]
     },
     "execution_count": 8,
     "metadata": {},
     "output_type": "execute_result"
    }
   ],
   "source": [
    "JJ()"
   ]
  },
  {
   "cell_type": "code",
   "execution_count": 9,
   "metadata": {},
   "outputs": [],
   "source": [
    "def JJ2():\n",
    "    print('hello')"
   ]
  },
  {
   "cell_type": "code",
   "execution_count": 10,
   "metadata": {},
   "outputs": [
    {
     "name": "stdout",
     "output_type": "stream",
     "text": [
      "hello\n"
     ]
    }
   ],
   "source": [
    "JJ2()"
   ]
  },
  {
   "cell_type": "code",
   "execution_count": 11,
   "metadata": {},
   "outputs": [
    {
     "name": "stdout",
     "output_type": "stream",
     "text": [
      "hello\n",
      "None\n"
     ]
    }
   ],
   "source": [
    "b=JJ2()\n",
    "print(b)"
   ]
  },
  {
   "cell_type": "markdown",
   "metadata": {},
   "source": [
    "python中的所有函数实际上都是有返回值（reture None）,\n",
    "如果你没有设置return，那么python将不显示None。\n",
    "如果你设置return"
   ]
  },
  {
   "cell_type": "markdown",
   "metadata": {},
   "source": [
    "# 定义一个函数\n",
    "\n",
    "def function_name(list of parameters):\n",
    "    \n",
    "    do something\n",
    "![](../Photo/69.png)\n",
    "- 以前使用的random 或者range 或者print.. 其实都是函数或者类"
   ]
  },
  {
   "cell_type": "code",
   "execution_count": 1,
   "metadata": {},
   "outputs": [],
   "source": [
    "def max_(num1,num2):\n",
    "    if num1>num2:\n",
    "        return num1\n",
    "    else:\n",
    "        return num2"
   ]
  },
  {
   "cell_type": "code",
   "execution_count": 2,
   "metadata": {},
   "outputs": [
    {
     "data": {
      "text/plain": [
       "4"
      ]
     },
     "execution_count": 2,
     "metadata": {},
     "output_type": "execute_result"
    }
   ],
   "source": [
    "max_(2,4)"
   ]
  },
  {
   "cell_type": "code",
   "execution_count": 3,
   "metadata": {},
   "outputs": [
    {
     "data": {
      "text/plain": [
       "3"
      ]
     },
     "execution_count": 3,
     "metadata": {},
     "output_type": "execute_result"
    }
   ],
   "source": [
    "max(1,2,3)"
   ]
  },
  {
   "cell_type": "code",
   "execution_count": 4,
   "metadata": {},
   "outputs": [
    {
     "data": {
      "text/plain": [
       "8"
      ]
     },
     "execution_count": 4,
     "metadata": {},
     "output_type": "execute_result"
    }
   ],
   "source": [
    "max(1,2,3,4,5,6,7,8)"
   ]
  },
  {
   "cell_type": "code",
   "execution_count": 5,
   "metadata": {},
   "outputs": [
    {
     "data": {
      "text/plain": [
       "10"
      ]
     },
     "execution_count": 5,
     "metadata": {},
     "output_type": "execute_result"
    }
   ],
   "source": [
    "max_(3,10)"
   ]
  },
  {
   "cell_type": "code",
   "execution_count": 7,
   "metadata": {},
   "outputs": [],
   "source": [
    "def max_(num1,num2,num3):\n",
    "    if num1>num2 and num2>num3:\n",
    "        return num1\n",
    "    elif num2>num1 and num2>num3:\n",
    "        return num2\n",
    "    elif num3>num1 and num3>num2:\n",
    "        print('Joeker is a bad man 1')"
   ]
  },
  {
   "cell_type": "code",
   "execution_count": 11,
   "metadata": {},
   "outputs": [
    {
     "data": {
      "text/plain": [
       "5"
      ]
     },
     "execution_count": 11,
     "metadata": {},
     "output_type": "execute_result"
    }
   ],
   "source": [
    "max_(4,5,2)"
   ]
  },
  {
   "cell_type": "code",
   "execution_count": 8,
   "metadata": {},
   "outputs": [],
   "source": [
    "def Good(name):\n",
    "    print('%s is a bad man 1'%name)"
   ]
  },
  {
   "cell_type": "code",
   "execution_count": 10,
   "metadata": {},
   "outputs": [
    {
     "name": "stdout",
     "output_type": "stream",
     "text": [
      "hhh is a bad man 1\n"
     ]
    }
   ],
   "source": [
    "Good('hhh')"
   ]
  },
  {
   "cell_type": "markdown",
   "metadata": {},
   "source": [
    "函数的参数如果有默认值的情况，当你调用该函数的时候\n",
    "可以不给予参数值，那么就会走该参数的默认值\n",
    "否则的话，就走你给予的参数值。\n",
    "含有默认值的参数要放在最后面。"
   ]
  },
  {
   "cell_type": "markdown",
   "metadata": {},
   "source": [
    "## 调用一个函数\n",
    "- functionName()\n",
    "- \"()\" 就代表调用"
   ]
  },
  {
   "cell_type": "markdown",
   "metadata": {},
   "source": [
    "![](../Photo/70.png)"
   ]
  },
  {
   "cell_type": "markdown",
   "metadata": {},
   "source": [
    "## 带返回值和不带返回值的函数\n",
    "- return 返回的内容\n",
    "- return 返回多个值\n",
    "- 一般情况下，在多个函数协同完成一个功能的时候，那么将会有返回值"
   ]
  },
  {
   "cell_type": "markdown",
   "metadata": {},
   "source": [
    "![](../Photo/71.png)\n",
    "\n",
    "- 当然也可以自定义返回None"
   ]
  },
  {
   "cell_type": "markdown",
   "metadata": {},
   "source": [
    "## EP：\n",
    "![](../Photo/72.png)"
   ]
  },
  {
   "cell_type": "code",
   "execution_count": 13,
   "metadata": {},
   "outputs": [
    {
     "ename": "TypeError",
     "evalue": "'<' not supported between instances of 'tuple' and 'NoneType'",
     "output_type": "error",
     "traceback": [
      "\u001b[1;31m---------------------------------------------------------------------------\u001b[0m",
      "\u001b[1;31mTypeError\u001b[0m                                 Traceback (most recent call last)",
      "\u001b[1;32m<ipython-input-13-c0c5032746b4>\u001b[0m in \u001b[0;36m<module>\u001b[1;34m\u001b[0m\n\u001b[0;32m      5\u001b[0m     \u001b[1;32mif\u001b[0m \u001b[0mn2\u001b[0m\u001b[1;33m<\u001b[0m\u001b[0msmallest\u001b[0m\u001b[1;33m:\u001b[0m\u001b[1;33m\u001b[0m\u001b[1;33m\u001b[0m\u001b[0m\n\u001b[0;32m      6\u001b[0m         \u001b[0msmallest\u001b[0m\u001b[1;33m=\u001b[0m\u001b[0mn2\u001b[0m\u001b[1;33m\u001b[0m\u001b[1;33m\u001b[0m\u001b[0m\n\u001b[1;32m----> 7\u001b[1;33m \u001b[0mmain\u001b[0m\u001b[1;33m(\u001b[0m\u001b[1;33m)\u001b[0m\u001b[1;33m\u001b[0m\u001b[1;33m\u001b[0m\u001b[0m\n\u001b[0m",
      "\u001b[1;32m<ipython-input-13-c0c5032746b4>\u001b[0m in \u001b[0;36mmain\u001b[1;34m()\u001b[0m\n\u001b[0;32m      1\u001b[0m \u001b[1;32mdef\u001b[0m \u001b[0mmain\u001b[0m\u001b[1;33m(\u001b[0m\u001b[1;33m)\u001b[0m\u001b[1;33m:\u001b[0m\u001b[1;33m\u001b[0m\u001b[1;33m\u001b[0m\u001b[0m\n\u001b[1;32m----> 2\u001b[1;33m     \u001b[0mprint\u001b[0m\u001b[1;33m(\u001b[0m\u001b[0mmin\u001b[0m\u001b[1;33m(\u001b[0m\u001b[0mmin\u001b[0m\u001b[1;33m(\u001b[0m\u001b[1;36m5\u001b[0m\u001b[1;33m,\u001b[0m\u001b[1;36m6\u001b[0m\u001b[1;33m)\u001b[0m\u001b[1;33m,\u001b[0m\u001b[1;33m(\u001b[0m\u001b[1;36m51\u001b[0m\u001b[1;33m,\u001b[0m\u001b[1;36m6\u001b[0m\u001b[1;33m)\u001b[0m\u001b[1;33m)\u001b[0m\u001b[1;33m)\u001b[0m\u001b[1;33m\u001b[0m\u001b[1;33m\u001b[0m\u001b[0m\n\u001b[0m\u001b[0;32m      3\u001b[0m \u001b[1;32mdef\u001b[0m \u001b[0mmin\u001b[0m\u001b[1;33m(\u001b[0m\u001b[0mn1\u001b[0m\u001b[1;33m,\u001b[0m\u001b[0mn2\u001b[0m\u001b[1;33m)\u001b[0m\u001b[1;33m:\u001b[0m\u001b[1;33m\u001b[0m\u001b[1;33m\u001b[0m\u001b[0m\n\u001b[0;32m      4\u001b[0m     \u001b[0msmallest\u001b[0m\u001b[1;33m=\u001b[0m\u001b[0mn1\u001b[0m\u001b[1;33m\u001b[0m\u001b[1;33m\u001b[0m\u001b[0m\n\u001b[0;32m      5\u001b[0m     \u001b[1;32mif\u001b[0m \u001b[0mn2\u001b[0m\u001b[1;33m<\u001b[0m\u001b[0msmallest\u001b[0m\u001b[1;33m:\u001b[0m\u001b[1;33m\u001b[0m\u001b[1;33m\u001b[0m\u001b[0m\n",
      "\u001b[1;32m<ipython-input-13-c0c5032746b4>\u001b[0m in \u001b[0;36mmin\u001b[1;34m(n1, n2)\u001b[0m\n\u001b[0;32m      3\u001b[0m \u001b[1;32mdef\u001b[0m \u001b[0mmin\u001b[0m\u001b[1;33m(\u001b[0m\u001b[0mn1\u001b[0m\u001b[1;33m,\u001b[0m\u001b[0mn2\u001b[0m\u001b[1;33m)\u001b[0m\u001b[1;33m:\u001b[0m\u001b[1;33m\u001b[0m\u001b[1;33m\u001b[0m\u001b[0m\n\u001b[0;32m      4\u001b[0m     \u001b[0msmallest\u001b[0m\u001b[1;33m=\u001b[0m\u001b[0mn1\u001b[0m\u001b[1;33m\u001b[0m\u001b[1;33m\u001b[0m\u001b[0m\n\u001b[1;32m----> 5\u001b[1;33m     \u001b[1;32mif\u001b[0m \u001b[0mn2\u001b[0m\u001b[1;33m<\u001b[0m\u001b[0msmallest\u001b[0m\u001b[1;33m:\u001b[0m\u001b[1;33m\u001b[0m\u001b[1;33m\u001b[0m\u001b[0m\n\u001b[0m\u001b[0;32m      6\u001b[0m         \u001b[0msmallest\u001b[0m\u001b[1;33m=\u001b[0m\u001b[0mn2\u001b[0m\u001b[1;33m\u001b[0m\u001b[1;33m\u001b[0m\u001b[0m\n\u001b[0;32m      7\u001b[0m \u001b[0mmain\u001b[0m\u001b[1;33m(\u001b[0m\u001b[1;33m)\u001b[0m\u001b[1;33m\u001b[0m\u001b[1;33m\u001b[0m\u001b[0m\n",
      "\u001b[1;31mTypeError\u001b[0m: '<' not supported between instances of 'tuple' and 'NoneType'"
     ]
    }
   ],
   "source": [
    "def main():\n",
    "    print(min(min(5,6),(51,6)))\n",
    "def min(n1,n2):\n",
    "    smallest=n1\n",
    "    if n2<smallest:\n",
    "        smallest=n2\n",
    "main()"
   ]
  },
  {
   "cell_type": "code",
   "execution_count": 14,
   "metadata": {},
   "outputs": [],
   "source": [
    "def fun1():\n",
    "    print('hahaha')\n",
    "def fun2(f):\n",
    "    f()"
   ]
  },
  {
   "cell_type": "code",
   "execution_count": 15,
   "metadata": {},
   "outputs": [
    {
     "name": "stdout",
     "output_type": "stream",
     "text": [
      "hahaha\n"
     ]
    }
   ],
   "source": [
    "fun2(fun1)"
   ]
  },
  {
   "cell_type": "code",
   "execution_count": 17,
   "metadata": {},
   "outputs": [],
   "source": [
    "def haha(num):\n",
    "    if num%2==0:\n",
    "        print('偶数')\n",
    "    else:\n",
    "        print('奇数')"
   ]
  },
  {
   "cell_type": "markdown",
   "metadata": {},
   "source": [
    "# KNN算法\n",
    "# 读取图片，进行对比分析\n",
    "import matplotlib.pyplot as plt \n",
    "\n",
    "res = plt.imread('D:/rabbit.jpg')\n",
    "print(res)"
   ]
  },
  {
   "cell_type": "markdown",
   "metadata": {},
   "source": [
    "## 类型和关键字参数\n",
    "- 普通参数\n",
    "- 多个参数\n",
    "- 默认值参数\n",
    "- 不定长参数"
   ]
  },
  {
   "cell_type": "markdown",
   "metadata": {},
   "source": [
    "## 普通参数"
   ]
  },
  {
   "cell_type": "markdown",
   "metadata": {},
   "source": [
    "## 多个参数"
   ]
  },
  {
   "cell_type": "markdown",
   "metadata": {},
   "source": [
    "## 默认值参数\n",
    "- 默认参数只能放在最后  *之后的必须强制命名传入参数,* 之后的变量必须带参数名"
   ]
  },
  {
   "cell_type": "markdown",
   "metadata": {},
   "source": [
    "# 强制命名\n",
    "- *之后的必须强制命名传入参数,* 之后的变量必须带参数名"
   ]
  },
  {
   "cell_type": "code",
   "execution_count": 2,
   "metadata": {},
   "outputs": [
    {
     "name": "stdout",
     "output_type": "stream",
     "text": [
      "joker\n"
     ]
    }
   ],
   "source": [
    "def haha(*,name,name2,name4='H'):\n",
    "    print(name)\n",
    "haha(name='joker',name2='haha')"
   ]
  },
  {
   "cell_type": "markdown",
   "metadata": {},
   "source": [
    "## 不定长参数\n",
    "- \\*args, 不定长，输入多少参数都可以，不写入参数也可以\n",
    "> - 可以输入多个参数\n",
    "  - 返回输出结果的类型是元组类型，元组可以迭代，输入多少个参数都可以迭代来取出\n",
    "  - args 名字是可以修改的，只是通常约定为args\n",
    "- \\**kwargs, 不定长第二种\n",
    "> - 可以输入多个参数，但需要带参数名称\n",
    "  - 返回的数据类型是字典\n",
    "  - 输入的一定要是表达式(键值对)\n",
    "- 一般大的项目传入参数时，使用config文件一次写入所有的参数"
   ]
  },
  {
   "cell_type": "code",
   "execution_count": 4,
   "metadata": {},
   "outputs": [
    {
     "name": "stdout",
     "output_type": "stream",
     "text": [
      "(1, 2, 3)\n"
     ]
    }
   ],
   "source": [
    "def TT(*args):\n",
    "    print(args)\n",
    "TT(1,2,3)"
   ]
  },
  {
   "cell_type": "code",
   "execution_count": 5,
   "metadata": {},
   "outputs": [
    {
     "name": "stdout",
     "output_type": "stream",
     "text": [
      "()\n"
     ]
    }
   ],
   "source": [
    "TT()"
   ]
  },
  {
   "cell_type": "code",
   "execution_count": 6,
   "metadata": {},
   "outputs": [
    {
     "name": "stdout",
     "output_type": "stream",
     "text": [
      "(1, 2, 3, 4, 5, 6, 7, 8)\n"
     ]
    }
   ],
   "source": [
    "TT(1,2,3,4,5,6,7,8)"
   ]
  },
  {
   "cell_type": "code",
   "execution_count": 8,
   "metadata": {},
   "outputs": [],
   "source": [
    "def max_(*args):\n",
    "    res=0\n",
    "    for i in args:\n",
    "        if i>res:\n",
    "            res=i\n",
    "    return res\n"
   ]
  },
  {
   "cell_type": "code",
   "execution_count": 11,
   "metadata": {},
   "outputs": [
    {
     "data": {
      "text/plain": [
       "0"
      ]
     },
     "execution_count": 11,
     "metadata": {},
     "output_type": "execute_result"
    }
   ],
   "source": [
    "max_(-2,-3,-4,0)"
   ]
  },
  {
   "cell_type": "code",
   "execution_count": 16,
   "metadata": {},
   "outputs": [],
   "source": [
    "def sum_(*args):\n",
    "    res=0\n",
    "    for i in args:\n",
    "            res+=i\n",
    "    return res\n"
   ]
  },
  {
   "cell_type": "code",
   "execution_count": 17,
   "metadata": {},
   "outputs": [
    {
     "data": {
      "text/plain": [
       "15"
      ]
     },
     "execution_count": 17,
     "metadata": {},
     "output_type": "execute_result"
    }
   ],
   "source": [
    "sum_(1,2,3,4,5)"
   ]
  },
  {
   "cell_type": "code",
   "execution_count": 20,
   "metadata": {},
   "outputs": [],
   "source": [
    "def sum_(*args):\n",
    "    res=0\n",
    "    count=0\n",
    "    for i in args:\n",
    "            res+=i\n",
    "            count+=i\n",
    "    mean=res/count\n",
    "    return res,count\n"
   ]
  },
  {
   "cell_type": "code",
   "execution_count": 22,
   "metadata": {},
   "outputs": [
    {
     "name": "stdout",
     "output_type": "stream",
     "text": [
      "9 9\n"
     ]
    }
   ],
   "source": [
    "a,b=sum_(4,2,3)\n",
    "print(a,b)"
   ]
  },
  {
   "cell_type": "code",
   "execution_count": 32,
   "metadata": {},
   "outputs": [],
   "source": [
    "def sum_(*args,A='sum'):\n",
    "    print(A)\n",
    "    res=0\n",
    "    count=0\n",
    "    for i in args:\n",
    "        res+=i\n",
    "        count+=1\n",
    "    mean=res/count\n",
    "    return res,mean"
   ]
  },
  {
   "cell_type": "code",
   "execution_count": 33,
   "metadata": {},
   "outputs": [
    {
     "name": "stdout",
     "output_type": "stream",
     "text": [
      "sum\n",
      "8 2.0\n"
     ]
    }
   ],
   "source": [
    "a,b=sum_(-1,4,2,3)\n",
    "print(a,b)"
   ]
  },
  {
   "cell_type": "markdown",
   "metadata": {},
   "source": [
    "*args和普通函数共用，普通函数放在后面"
   ]
  },
  {
   "cell_type": "markdown",
   "metadata": {},
   "source": [
    "### \\**kwargs, 不定长第二种\n",
    "- 第二种不定长参数传入方法，使用字典数据传入\n",
    "- 写入参数时，必须先写\\*args, 再写\\**kwargs。 这是固定写法"
   ]
  },
  {
   "cell_type": "markdown",
   "metadata": {},
   "source": [
    "## 变量的作用域\n",
    "- 局部变量 local\n",
    "- 全局变量 global\n",
    "- globals 函数返回一个全局变量的字典，包括所有导入的变量\n",
    "- locals() 函数会以字典类型返回当前位置的全部局部变量。"
   ]
  },
  {
   "cell_type": "code",
   "execution_count": 37,
   "metadata": {},
   "outputs": [
    {
     "name": "stdout",
     "output_type": "stream",
     "text": [
      "1100\n"
     ]
    }
   ],
   "source": [
    "a=1000\n",
    "b=10\n",
    "def Y():\n",
    "    global a,b\n",
    "    a+=100\n",
    "    print(a)\n",
    "Y()"
   ]
  },
  {
   "cell_type": "code",
   "execution_count": 43,
   "metadata": {},
   "outputs": [
    {
     "ename": "NameError",
     "evalue": "name 'a1' is not defined",
     "output_type": "error",
     "traceback": [
      "\u001b[1;31m---------------------------------------------------------------------------\u001b[0m",
      "\u001b[1;31mNameError\u001b[0m                                 Traceback (most recent call last)",
      "\u001b[1;32m<ipython-input-43-440fc152de55>\u001b[0m in \u001b[0;36m<module>\u001b[1;34m\u001b[0m\n\u001b[0;32m      2\u001b[0m     \u001b[0ma\u001b[0m\u001b[1;33m+=\u001b[0m\u001b[1;36m100\u001b[0m\u001b[1;33m\u001b[0m\u001b[1;33m\u001b[0m\u001b[0m\n\u001b[0;32m      3\u001b[0m     \u001b[0mprint\u001b[0m\u001b[1;33m(\u001b[0m\u001b[0ma1\u001b[0m\u001b[1;33m)\u001b[0m\u001b[1;33m\u001b[0m\u001b[1;33m\u001b[0m\u001b[0m\n\u001b[1;32m----> 4\u001b[1;33m \u001b[0mYY\u001b[0m\u001b[1;33m(\u001b[0m\u001b[0ma1\u001b[0m\u001b[1;33m)\u001b[0m\u001b[1;33m\u001b[0m\u001b[1;33m\u001b[0m\u001b[0m\n\u001b[0m\u001b[0;32m      5\u001b[0m \u001b[0mprint\u001b[0m\u001b[1;33m(\u001b[0m\u001b[0ma1\u001b[0m\u001b[1;33m)\u001b[0m\u001b[1;33m\u001b[0m\u001b[1;33m\u001b[0m\u001b[0m\n",
      "\u001b[1;31mNameError\u001b[0m: name 'a1' is not defined"
     ]
    }
   ],
   "source": [
    "def YY(a1):\n",
    "    a+=100\n",
    "    print(a1)\n",
    "YY(a1)\n",
    "print(a1)"
   ]
  },
  {
   "cell_type": "code",
   "execution_count": 44,
   "metadata": {},
   "outputs": [
    {
     "data": {
      "text/plain": [
       "{'__name__': '__main__',\n",
       " '__doc__': 'Automatically created module for IPython interactive environment',\n",
       " '__package__': None,\n",
       " '__loader__': None,\n",
       " '__spec__': None,\n",
       " '__builtin__': <module 'builtins' (built-in)>,\n",
       " '__builtins__': <module 'builtins' (built-in)>,\n",
       " '_ih': ['',\n",
       "  \"def haha(*,name):\\n    print(name)\\nhaha(name='joker')\",\n",
       "  \"def haha(*,name,name2,name4='H'):\\n    print(name)\\nhaha(name='joker',name2='haha')\",\n",
       "  'def TT(*args)：\\n    print(args)\\nTT(1,2,3)',\n",
       "  'def TT(*args):\\n    print(args)\\nTT(1,2,3)',\n",
       "  'TT()',\n",
       "  'TT(1,2,3,4,5,6,7,8)',\n",
       "  'def max_(num1,num2,num3):\\n    for i in max_()\\n    if num1>num2 and num2>num3\\n    return num1',\n",
       "  'def max_(*args):\\n    res=0\\n    for i in args:\\n        if i>res:\\n            res=i\\n    return res',\n",
       "  'max_(-2,1,0,3,6,7)',\n",
       "  'max_(-2,1,0,3,10,7)',\n",
       "  'max_(-2,-3,-4,0)',\n",
       "  'def sum_(*args):\\n    res=0\\n    for i in args:\\n        if i>res:\\n            res+=i\\n    return res',\n",
       "  'sum_(1,2,3,4,5)',\n",
       "  'def sum_(*args):\\n    res=0\\n    for i in args:\\n        if i>res:\\n            res+=i\\n    return res',\n",
       "  'sum_(1,2,3,4,5)',\n",
       "  'def sum_(*args):\\n    res=0\\n    for i in args:\\n            res+=i\\n    return res',\n",
       "  'sum_(1,2,3,4,5)',\n",
       "  'def sum_(*args):\\n    res=0\\n    count=0\\n    for i in args:\\n            res+=i\\n            count+=i\\n        mean=res/count\\n    return res,count',\n",
       "  'def sum_(*args):\\n    res=0\\n    count=0\\n    for i in args:\\n            res+=i\\n            count+=i\\n    mean=res/count\\n    return res,count',\n",
       "  'a,b=sum_(4,2,3)',\n",
       "  'a,b=sum_(4,2,3)\\nprint(a,b)',\n",
       "  \"def sum_(*args,A='sum'):\\n    res=0\\n    count=0\\n    for i in args:\\n            res+=i\\n            count+=i\\n    mean=res/count\\n    return res,count\",\n",
       "  'a,b=sum_(-1,4,2,3)\\nprint(a,b)',\n",
       "  \"def sum_(*args,A='sum'):\\n    print(A)\\n    res=0\\n    count=0\\n    for i in args:\\n            res+=i\\n            count+=i\\n    mean=res/count\\n    return res,count\",\n",
       "  'a,b=sum_(-1,4,2,3)\\nprint(a,b)',\n",
       "  'a,b=sum_(-1,4,2,3)\\nprint(a,b)',\n",
       "  \"def sum_(*args,A='sum'):\\n    print(A)\\n    res=0\\n    count=0\\n    for i in args:\\n        res+=i\\n        count+=i\\n    mean=res/count\\n    return res,count\",\n",
       "  'a,b=sum_(-1,4,2,3)\\nprint(a,b)',\n",
       "  \"def sum_(*args,A='sum'):\\n    print(A)\\n    res=0\\n    count=0\\n    for i in args:\\n        res+=i\\n        count+=i\\n    mean=res/count\\n    return res,mean\",\n",
       "  'a,b=sum_(-1,4,2,3)\\nprint(a,b)',\n",
       "  \"def sum_(*args,A='sum'):\\n    print(A)\\n    res=0\\n    count=0\\n    for i in args:\\n        res+=i\\n        count+=1\\n    mean=res/count\\n    return res,mean\",\n",
       "  'a,b=sum_(-1,4,2,3)\\nprint(a,b)',\n",
       "  'a=1000\\ndef Y():\\n    a+=100\\n    print(a)\\nY()',\n",
       "  'a=1000\\ndef Y():\\n    global a\\n    a+=100\\n    print(a)\\nY()',\n",
       "  'a=1000\\nb=10\\ndef Y():\\n    global a,b\\n    a+=100\\n    print(a)\\nY()',\n",
       "  'a=1000\\nb=10\\ndef Y():\\n    global a,b\\n    a+=100\\n    b+=10\\n    print(a)\\nY()',\n",
       "  'def YY(a):\\n    a+=100\\n    print(a1)\\nYY(a)\\nprint(a)',\n",
       "  'def YY(a1):\\n    a+=100\\n    print(a1)\\nYY(a)\\nprint(a)',\n",
       "  'def YY(a1):\\n    a+=100\\n    print(a1)\\nYY(a)\\nprint(a)\\nYY()',\n",
       "  'def YY(a1):\\n    a+=100\\n    print(a1)\\nYY(a1)\\nprint(a)\\nYY()',\n",
       "  'def YY(a1):\\n    a+=100\\n    print(a1)\\nYY(a1)\\nprint(a1)\\nYY()',\n",
       "  'def YY(a1):\\n    a+=100\\n    print(a1)\\nYY(a1)\\nprint(a1)',\n",
       "  'globals()'],\n",
       " '_oh': {9: 7, 10: 10, 11: 0, 13: 7, 15: 7, 17: 15},\n",
       " '_dh': ['C:\\\\Users\\\\lenovo\\\\Desktop\\\\python\\\\python基础'],\n",
       " 'In': ['',\n",
       "  \"def haha(*,name):\\n    print(name)\\nhaha(name='joker')\",\n",
       "  \"def haha(*,name,name2,name4='H'):\\n    print(name)\\nhaha(name='joker',name2='haha')\",\n",
       "  'def TT(*args)：\\n    print(args)\\nTT(1,2,3)',\n",
       "  'def TT(*args):\\n    print(args)\\nTT(1,2,3)',\n",
       "  'TT()',\n",
       "  'TT(1,2,3,4,5,6,7,8)',\n",
       "  'def max_(num1,num2,num3):\\n    for i in max_()\\n    if num1>num2 and num2>num3\\n    return num1',\n",
       "  'def max_(*args):\\n    res=0\\n    for i in args:\\n        if i>res:\\n            res=i\\n    return res',\n",
       "  'max_(-2,1,0,3,6,7)',\n",
       "  'max_(-2,1,0,3,10,7)',\n",
       "  'max_(-2,-3,-4,0)',\n",
       "  'def sum_(*args):\\n    res=0\\n    for i in args:\\n        if i>res:\\n            res+=i\\n    return res',\n",
       "  'sum_(1,2,3,4,5)',\n",
       "  'def sum_(*args):\\n    res=0\\n    for i in args:\\n        if i>res:\\n            res+=i\\n    return res',\n",
       "  'sum_(1,2,3,4,5)',\n",
       "  'def sum_(*args):\\n    res=0\\n    for i in args:\\n            res+=i\\n    return res',\n",
       "  'sum_(1,2,3,4,5)',\n",
       "  'def sum_(*args):\\n    res=0\\n    count=0\\n    for i in args:\\n            res+=i\\n            count+=i\\n        mean=res/count\\n    return res,count',\n",
       "  'def sum_(*args):\\n    res=0\\n    count=0\\n    for i in args:\\n            res+=i\\n            count+=i\\n    mean=res/count\\n    return res,count',\n",
       "  'a,b=sum_(4,2,3)',\n",
       "  'a,b=sum_(4,2,3)\\nprint(a,b)',\n",
       "  \"def sum_(*args,A='sum'):\\n    res=0\\n    count=0\\n    for i in args:\\n            res+=i\\n            count+=i\\n    mean=res/count\\n    return res,count\",\n",
       "  'a,b=sum_(-1,4,2,3)\\nprint(a,b)',\n",
       "  \"def sum_(*args,A='sum'):\\n    print(A)\\n    res=0\\n    count=0\\n    for i in args:\\n            res+=i\\n            count+=i\\n    mean=res/count\\n    return res,count\",\n",
       "  'a,b=sum_(-1,4,2,3)\\nprint(a,b)',\n",
       "  'a,b=sum_(-1,4,2,3)\\nprint(a,b)',\n",
       "  \"def sum_(*args,A='sum'):\\n    print(A)\\n    res=0\\n    count=0\\n    for i in args:\\n        res+=i\\n        count+=i\\n    mean=res/count\\n    return res,count\",\n",
       "  'a,b=sum_(-1,4,2,3)\\nprint(a,b)',\n",
       "  \"def sum_(*args,A='sum'):\\n    print(A)\\n    res=0\\n    count=0\\n    for i in args:\\n        res+=i\\n        count+=i\\n    mean=res/count\\n    return res,mean\",\n",
       "  'a,b=sum_(-1,4,2,3)\\nprint(a,b)',\n",
       "  \"def sum_(*args,A='sum'):\\n    print(A)\\n    res=0\\n    count=0\\n    for i in args:\\n        res+=i\\n        count+=1\\n    mean=res/count\\n    return res,mean\",\n",
       "  'a,b=sum_(-1,4,2,3)\\nprint(a,b)',\n",
       "  'a=1000\\ndef Y():\\n    a+=100\\n    print(a)\\nY()',\n",
       "  'a=1000\\ndef Y():\\n    global a\\n    a+=100\\n    print(a)\\nY()',\n",
       "  'a=1000\\nb=10\\ndef Y():\\n    global a,b\\n    a+=100\\n    print(a)\\nY()',\n",
       "  'a=1000\\nb=10\\ndef Y():\\n    global a,b\\n    a+=100\\n    b+=10\\n    print(a)\\nY()',\n",
       "  'def YY(a):\\n    a+=100\\n    print(a1)\\nYY(a)\\nprint(a)',\n",
       "  'def YY(a1):\\n    a+=100\\n    print(a1)\\nYY(a)\\nprint(a)',\n",
       "  'def YY(a1):\\n    a+=100\\n    print(a1)\\nYY(a)\\nprint(a)\\nYY()',\n",
       "  'def YY(a1):\\n    a+=100\\n    print(a1)\\nYY(a1)\\nprint(a)\\nYY()',\n",
       "  'def YY(a1):\\n    a+=100\\n    print(a1)\\nYY(a1)\\nprint(a1)\\nYY()',\n",
       "  'def YY(a1):\\n    a+=100\\n    print(a1)\\nYY(a1)\\nprint(a1)',\n",
       "  'globals()'],\n",
       " 'Out': {9: 7, 10: 10, 11: 0, 13: 7, 15: 7, 17: 15},\n",
       " 'get_ipython': <bound method InteractiveShell.get_ipython of <ipykernel.zmqshell.ZMQInteractiveShell object at 0x0000021A0F70E390>>,\n",
       " 'exit': <IPython.core.autocall.ZMQExitAutocall at 0x21a0f70e358>,\n",
       " 'quit': <IPython.core.autocall.ZMQExitAutocall at 0x21a0f70e358>,\n",
       " '_': 15,\n",
       " '__': 7,\n",
       " '___': 7,\n",
       " '_i': 'def YY(a1):\\n    a+=100\\n    print(a1)\\nYY(a1)\\nprint(a1)',\n",
       " '_ii': 'def YY(a1):\\n    a+=100\\n    print(a1)\\nYY(a1)\\nprint(a1)\\nYY()',\n",
       " '_iii': 'def YY(a1):\\n    a+=100\\n    print(a1)\\nYY(a1)\\nprint(a)\\nYY()',\n",
       " '_i1': \"def haha(*,name):\\n    print(name)\\nhaha(name='joker')\",\n",
       " 'haha': <function __main__.haha(*, name, name2, name4='H')>,\n",
       " '_i2': \"def haha(*,name,name2,name4='H'):\\n    print(name)\\nhaha(name='joker',name2='haha')\",\n",
       " '_i3': 'def TT(*args)：\\n    print(args)\\nTT(1,2,3)',\n",
       " '_i4': 'def TT(*args):\\n    print(args)\\nTT(1,2,3)',\n",
       " 'TT': <function __main__.TT(*args)>,\n",
       " '_i5': 'TT()',\n",
       " '_i6': 'TT(1,2,3,4,5,6,7,8)',\n",
       " '_i7': 'def max_(num1,num2,num3):\\n    for i in max_()\\n    if num1>num2 and num2>num3\\n    return num1',\n",
       " '_i8': 'def max_(*args):\\n    res=0\\n    for i in args:\\n        if i>res:\\n            res=i\\n    return res',\n",
       " 'max_': <function __main__.max_(*args)>,\n",
       " '_i9': 'max_(-2,1,0,3,6,7)',\n",
       " '_9': 7,\n",
       " '_i10': 'max_(-2,1,0,3,10,7)',\n",
       " '_10': 10,\n",
       " '_i11': 'max_(-2,-3,-4,0)',\n",
       " '_11': 0,\n",
       " '_i12': 'def sum_(*args):\\n    res=0\\n    for i in args:\\n        if i>res:\\n            res+=i\\n    return res',\n",
       " 'sum_': <function __main__.sum_(*args, A='sum')>,\n",
       " '_i13': 'sum_(1,2,3,4,5)',\n",
       " '_13': 7,\n",
       " '_i14': 'def sum_(*args):\\n    res=0\\n    for i in args:\\n        if i>res:\\n            res+=i\\n    return res',\n",
       " '_i15': 'sum_(1,2,3,4,5)',\n",
       " '_15': 7,\n",
       " '_i16': 'def sum_(*args):\\n    res=0\\n    for i in args:\\n            res+=i\\n    return res',\n",
       " '_i17': 'sum_(1,2,3,4,5)',\n",
       " '_17': 15,\n",
       " '_i18': 'def sum_(*args):\\n    res=0\\n    count=0\\n    for i in args:\\n            res+=i\\n            count+=i\\n        mean=res/count\\n    return res,count',\n",
       " '_i20': 'def sum_(*args):\\n    res=0\\n    count=0\\n    for i in args:\\n            res+=i\\n            count+=i\\n    mean=res/count\\n    return res,count',\n",
       " '_i21': 'a,b=sum_(4,2,3)',\n",
       " 'a': 1100,\n",
       " 'b': 20,\n",
       " '_i22': 'a,b=sum_(4,2,3)\\nprint(a,b)',\n",
       " '_i23': \"def sum_(*args,A='sum'):\\n    res=0\\n    count=0\\n    for i in args:\\n            res+=i\\n            count+=i\\n    mean=res/count\\n    return res,count\",\n",
       " '_i24': 'a,b=sum_(-1,4,2,3)\\nprint(a,b)',\n",
       " '_i25': \"def sum_(*args,A='sum'):\\n    print(A)\\n    res=0\\n    count=0\\n    for i in args:\\n            res+=i\\n            count+=i\\n    mean=res/count\\n    return res,count\",\n",
       " '_i26': 'a,b=sum_(-1,4,2,3)\\nprint(a,b)',\n",
       " '_i27': 'a,b=sum_(-1,4,2,3)\\nprint(a,b)',\n",
       " '_i28': \"def sum_(*args,A='sum'):\\n    print(A)\\n    res=0\\n    count=0\\n    for i in args:\\n        res+=i\\n        count+=i\\n    mean=res/count\\n    return res,count\",\n",
       " '_i29': 'a,b=sum_(-1,4,2,3)\\nprint(a,b)',\n",
       " '_i30': \"def sum_(*args,A='sum'):\\n    print(A)\\n    res=0\\n    count=0\\n    for i in args:\\n        res+=i\\n        count+=i\\n    mean=res/count\\n    return res,mean\",\n",
       " '_i31': 'a,b=sum_(-1,4,2,3)\\nprint(a,b)',\n",
       " '_i32': \"def sum_(*args,A='sum'):\\n    print(A)\\n    res=0\\n    count=0\\n    for i in args:\\n        res+=i\\n        count+=1\\n    mean=res/count\\n    return res,mean\",\n",
       " '_i33': 'a,b=sum_(-1,4,2,3)\\nprint(a,b)',\n",
       " '_i34': 'a=1000\\ndef Y():\\n    a+=100\\n    print(a)\\nY()',\n",
       " 'Y': <function __main__.Y()>,\n",
       " '_i35': 'a=1000\\ndef Y():\\n    global a\\n    a+=100\\n    print(a)\\nY()',\n",
       " '_i36': 'a=1000\\nb=10\\ndef Y():\\n    global a,b\\n    a+=100\\n    print(a)\\nY()',\n",
       " '_i37': 'a=1000\\nb=10\\ndef Y():\\n    global a,b\\n    a+=100\\n    b+=10\\n    print(a)\\nY()',\n",
       " '_i38': 'def YY(a):\\n    a+=100\\n    print(a1)\\nYY(a)\\nprint(a)',\n",
       " 'YY': <function __main__.YY(a1)>,\n",
       " '_i39': 'def YY(a1):\\n    a+=100\\n    print(a1)\\nYY(a)\\nprint(a)',\n",
       " '_i40': 'def YY(a1):\\n    a+=100\\n    print(a1)\\nYY(a)\\nprint(a)\\nYY()',\n",
       " '_i41': 'def YY(a1):\\n    a+=100\\n    print(a1)\\nYY(a1)\\nprint(a)\\nYY()',\n",
       " '_i42': 'def YY(a1):\\n    a+=100\\n    print(a1)\\nYY(a1)\\nprint(a1)\\nYY()',\n",
       " '_i43': 'def YY(a1):\\n    a+=100\\n    print(a1)\\nYY(a1)\\nprint(a1)',\n",
       " '_i44': 'globals()'}"
      ]
     },
     "execution_count": 44,
     "metadata": {},
     "output_type": "execute_result"
    }
   ],
   "source": [
    "globals()"
   ]
  },
  {
   "cell_type": "markdown",
   "metadata": {},
   "source": [
    "## 注意：\n",
    "- global ：在进行赋值操作的时候需要声明\n",
    "- 官方解释：This is because when you make an assignment to a variable in a scope, that variable becomes local to that scope and shadows any similarly named variable in the outer scope.\n",
    "- ![](../Photo/73.png)"
   ]
  },
  {
   "cell_type": "markdown",
   "metadata": {},
   "source": [
    "## EP：\n",
    "- 定义一个邮箱加密函数，使得输入邮箱后进行ASCII码加密\n",
    "- 定义一个判断其是否为闰年的函数\n",
    "- 函数的嵌套：定义两个函数A，B，B函数接受A函数的数值并判定是否为奇数或者偶数"
   ]
  },
  {
   "cell_type": "markdown",
   "metadata": {},
   "source": [
    "# Homework\n",
    "- 1\n",
    "![](../Photo/74.png)"
   ]
  },
  {
   "cell_type": "code",
   "execution_count": 1,
   "metadata": {},
   "outputs": [
    {
     "name": "stdout",
     "output_type": "stream",
     "text": [
      "1 5 12 22 35 51 70 92 117 145 \n",
      "176 210 247 287 330 376 425 477 532 590 \n",
      "651 715 782 852 925 1001 1080 1162 1247 1335 \n",
      "1426 1520 1617 1717 1820 1926 2035 2147 2262 2380 \n",
      "2501 2625 2752 2882 3015 3151 3290 3432 3577 3725 \n",
      "3876 4030 4187 4347 4510 4676 4845 5017 5192 5370 \n",
      "5551 5735 5922 6112 6305 6501 6700 6902 7107 7315 \n",
      "7526 7740 7957 8177 8400 8626 8855 9087 9322 9560 \n",
      "9801 10045 10292 10542 10795 11051 11310 11572 11837 12105 \n",
      "12376 12650 12927 13207 13490 13776 14065 14357 14652 14950 \n"
     ]
    }
   ],
   "source": [
    "def houyuheng():\n",
    "    a=0\n",
    "    for i in range (1,101):\n",
    "        num=int(i*(3*i-1)/2)\n",
    "        print(num,end=' ')\n",
    "        a+=1\n",
    "        if a%10==0:\n",
    "            print()\n",
    "houyuheng()"
   ]
  },
  {
   "cell_type": "markdown",
   "metadata": {},
   "source": [
    "- 2 \n",
    "![](../Photo/75.png)"
   ]
  },
  {
   "cell_type": "code",
   "execution_count": 2,
   "metadata": {},
   "outputs": [
    {
     "data": {
      "text/plain": [
       "9"
      ]
     },
     "execution_count": 2,
     "metadata": {},
     "output_type": "execute_result"
    }
   ],
   "source": [
    "def sumDigits(n):\n",
    "    j=0\n",
    "    num=str(n)\n",
    "    for i in num:\n",
    "        b=int(i)\n",
    "        j+=b\n",
    "    return j\n",
    "sumDigits(234)"
   ]
  },
  {
   "cell_type": "markdown",
   "metadata": {},
   "source": [
    "- 3\n",
    "![](../Photo/76.png)"
   ]
  },
  {
   "cell_type": "code",
   "execution_count": 3,
   "metadata": {},
   "outputs": [
    {
     "name": "stdout",
     "output_type": "stream",
     "text": [
      "2.4 3 5\n",
      "12.4 15 31\n"
     ]
    }
   ],
   "source": [
    "def HEXUE(num1,num2,num3):\n",
    "    if num1>num2 and num2>num3:\n",
    "        print(num3,num2,num1)\n",
    "    elif num1>num3 and num3>num2:\n",
    "        print(num2,num3,num1)\n",
    "    elif num1<num2 and num2<num3:\n",
    "        print(num1,num2,num3)\n",
    "    elif num1<num3 and num3<num2:\n",
    "        print(num1,num3,num2)\n",
    "    elif num3<num1 and num1<num2:\n",
    "        print(num3,num1,num2)\n",
    "    else:\n",
    "        print(num2,num1,num3)\n",
    "HEXUE(3,2.4,5)\n",
    "HEXUE(31,12.4,15)"
   ]
  },
  {
   "cell_type": "markdown",
   "metadata": {},
   "source": [
    "# - 4\n",
    "![](../Photo/77.png)"
   ]
  },
  {
   "cell_type": "code",
   "execution_count": null,
   "metadata": {},
   "outputs": [],
   "source": []
  },
  {
   "cell_type": "markdown",
   "metadata": {},
   "source": [
    "- 5\n",
    "![](../Photo/78.png)"
   ]
  },
  {
   "cell_type": "code",
   "execution_count": null,
   "metadata": {},
   "outputs": [],
   "source": [
    "def mama(ch1,ch2,num):\n",
    "    num1=ord(ch1)\n",
    "    num2=ord(ch2)\n",
    "    num3=0\n",
    "    for i in range(num1,num2+1):\n",
    "        a=chr(i)\n",
    "        print(a,end=' ')\n",
    "        num3+=1\n",
    "        if num3%num==0:\n",
    "            print()\n",
    "ch1_=input('请输入一个字母：')\n",
    "ch2_=input('请输入一个字母：')\n",
    "num_=eval(input('请输入一个整数：'))\n",
    "mama(ch1_,ch2_,num_)"
   ]
  },
  {
   "cell_type": "markdown",
   "metadata": {},
   "source": [
    "- 6\n",
    "![](../Photo/79.png)"
   ]
  },
  {
   "cell_type": "code",
   "execution_count": null,
   "metadata": {},
   "outputs": [],
   "source": [
    "def tianshu(year):\n",
    "    if year%4==0 and year%100!=0 or year%400==0:\n",
    "        print('%d年有366天'%year)\n",
    "    else:\n",
    "        print('%d年有365天'%year)\n",
    "for i in range(2010,2021):\n",
    "    tianshu(i)"
   ]
  },
  {
   "cell_type": "markdown",
   "metadata": {},
   "source": [
    "- 7\n",
    "![](../Photo/80.png)"
   ]
  },
  {
   "cell_type": "code",
   "execution_count": null,
   "metadata": {},
   "outputs": [],
   "source": [
    "def distance(x1,x2,y1,y2):\n",
    "    l=((x2-x1)**2+(y2-y1)**2)**(1/2)\n",
    "    return l\n",
    "x1,x2,y1,y2=eval(input())\n",
    "distance(x1,x2,y1,y2)"
   ]
  },
  {
   "cell_type": "markdown",
   "metadata": {},
   "source": [
    "- 8\n",
    "![](../Photo/81.png)"
   ]
  },
  {
   "cell_type": "markdown",
   "metadata": {},
   "source": [
    "- 9\n",
    "![](../Photo/82.png)\n",
    "![](../Photo/83.png)"
   ]
  },
  {
   "cell_type": "code",
   "execution_count": null,
   "metadata": {},
   "outputs": [],
   "source": [
    "import time\n",
    "int(time.time()*1000)"
   ]
  },
  {
   "cell_type": "code",
   "execution_count": null,
   "metadata": {},
   "outputs": [],
   "source": [
    "import datetime\n",
    "\n",
    "now = datetime.datetime.now()\n",
    "\n",
    "now.strftime('%Y %H:%M:%S')  "
   ]
  },
  {
   "cell_type": "markdown",
   "metadata": {},
   "source": [
    "- 10\n",
    "![](../Photo/84.png)"
   ]
  },
  {
   "cell_type": "markdown",
   "metadata": {},
   "source": [
    "- 11 \n",
    "### 去网上寻找如何用Python代码发送邮件 \n",
    "    - time.sleep(3)  3秒发送一次\n",
    "    - 一旦错误后，重新换一个邮箱"
   ]
  },
  {
   "cell_type": "code",
   "execution_count": null,
   "metadata": {},
   "outputs": [],
   "source": [
    "import smtplib\n",
    "s = smtplib.SMTP(\"localhost\")\n",
    "tolist = [\"xxx@qq.com\", \"xxx@163.com\"]\n",
    "msg = '''\\\n",
    "From: Me@my.org\n",
    "Subject: test\n",
    "This is a test '''\n",
    "s.sendmail(\"me@my.org\", tolist, msg)\n",
    "{}\n"
   ]
  },
  {
   "cell_type": "code",
   "execution_count": null,
   "metadata": {},
   "outputs": [],
   "source": []
  }
 ],
 "metadata": {
  "kernelspec": {
   "display_name": "Python 3",
   "language": "python",
   "name": "python3"
  },
  "language_info": {
   "codemirror_mode": {
    "name": "ipython",
    "version": 3
   },
   "file_extension": ".py",
   "mimetype": "text/x-python",
   "name": "python",
   "nbconvert_exporter": "python",
   "pygments_lexer": "ipython3",
   "version": "3.7.3"
  }
 },
 "nbformat": 4,
 "nbformat_minor": 2
}
